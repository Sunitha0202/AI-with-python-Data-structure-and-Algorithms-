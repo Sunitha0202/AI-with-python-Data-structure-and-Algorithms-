{
 "cells": [
  {
   "cell_type": "markdown",
   "id": "39ca3a3a",
   "metadata": {},
   "source": [
    "## Assignment 4\n",
    "\n",
    "The lecture notes provided a Python implementation for a node and the foundational structure of a stack. Please proceed to implement the push and pop methods for the stack:\n",
    "\n",
    "- The push method should accept a value as parameter and should add a new node at the top of the stack with the given value. The pointers and size should be updated accordingly. This method does not return anything.\n",
    "\n",
    "- The pop method should remove the top node from the stack **and** should return its value. The pointers and size should be updated accordingly. This method does not accept any parameters. If the stack is empty, the method should return `None`.\n",
    "\n",
    "\n",
    "To facilitate an understanding of the contents of the data stack, I have provided the method `__repr__` which in turn invokes the method `__iter__` below. The `__repr__()` method returns (doesn't print) a string like this:\n",
    "\n",
    "<Stack (3 elements): ['C', 'B', 'A']>\n",
    "\n",
    "Notice that it informs of the number of elements and prints a list with the content of the nodes."
   ]
  },
  {
   "cell_type": "code",
   "execution_count": 2,
   "id": "ebbd665b",
   "metadata": {},
   "outputs": [],
   "source": [
    "class Node:\n",
    "    def __init__(self, value):\n",
    "        self.value = value\n",
    "        self.next = None\n",
    "\n",
    "class Stack:\n",
    "    def __init__(self):\n",
    "        self.top = None  # Top of the stack\n",
    "        self.size = 0    # Size of the stack\n",
    "\n",
    "    def push(self, value):\n",
    "        \"\"\"\n",
    "        Adds a new node with the given value at the top of the stack.\n",
    "        \"\"\"\n",
    "        new_node = Node(value)   # Create a new node\n",
    "        new_node.next = self.top # Point the new node to the current top\n",
    "        self.top = new_node      # Update the top of the stack\n",
    "        self.size += 1           # Increment the size of the stack\n",
    "\n",
    "    def pop(self):\n",
    "        \"\"\"\n",
    "        Removes and returns the top node from the stack. If the stack is empty, returns None.\n",
    "        \"\"\"\n",
    "        if self.top is None:     # Check if the stack is empty\n",
    "            return None\n",
    "        popped_node = self.top   # Get the current top node\n",
    "        self.top = self.top.next # Update the top to the next node\n",
    "        self.size -= 1           # Decrement the size of the stack\n",
    "        return popped_node.value # Return the value of the popped node\n",
    "\n",
    "    def __repr__(self):\n",
    "        \"\"\"\n",
    "        Returns a string representation of the stack.\n",
    "        \"\"\"\n",
    "        elements = []\n",
    "        current = self.top\n",
    "        while current:\n",
    "            elements.append(repr(current.value)) # Use repr to handle strings properly\n",
    "            current = current.next\n",
    "        return f\"<Stack ({self.size} elements): {', '.join(elements)}>\"\n"
   ]
  },
  {
   "cell_type": "code",
   "execution_count": null,
   "id": "bc8fb8fc-125e-4462-aaeb-336de635460c",
   "metadata": {},
   "outputs": [],
   "source": []
  }
 ],
 "metadata": {
  "kernelspec": {
   "display_name": "Python 3 (ipykernel)",
   "language": "python",
   "name": "python3"
  },
  "language_info": {
   "codemirror_mode": {
    "name": "ipython",
    "version": 3
   },
   "file_extension": ".py",
   "mimetype": "text/x-python",
   "name": "python",
   "nbconvert_exporter": "python",
   "pygments_lexer": "ipython3",
   "version": "3.12.5"
  }
 },
 "nbformat": 4,
 "nbformat_minor": 5
}
