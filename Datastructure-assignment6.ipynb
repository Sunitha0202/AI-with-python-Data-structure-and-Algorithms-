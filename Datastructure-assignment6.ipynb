{
 "cells": [
  {
   "cell_type": "markdown",
   "id": "c2230d14-e921-469b-a266-da5eb54a03ab",
   "metadata": {},
   "source": [
    "How it Works:\n",
    "\n",
    "Input Key: We have an input key, which can be any data type (e.g., a string, an integer). Modulus Operation: We apply the modulus operation ()% to the key using the size of the hash table m. This operation gives us the remainder when the key is divided by m. Hash Value: The remainder is the hash value, which is an integer between 0 and m-1.\n",
    "\n",
    "Demonstration:\n",
    "\n",
    "Let's consider a hash table of size 10 (i.e., m = 10). We'll hash the following keys: \"apple\", \"banana\", \"cherry\", \"date\", and \"elderberry\"."
   ]
  },
  {
   "cell_type": "code",
   "execution_count": 1,
   "id": "1178b06d-2a9c-4446-ae35-058661726de8",
   "metadata": {},
   "outputs": [
    {
     "name": "stdout",
     "output_type": "stream",
     "text": [
      "Hash value of apple: 5\n",
      "Hash value of banana: 3\n",
      "Hash value of cherry: 4\n",
      "Hash value of date: 1\n",
      "Hash value of elderberry: 8\n"
     ]
    }
   ],
   "source": [
    "keys = [\"apple\", \"banana\", \"cherry\", \"date\", \"elderberry\"]\n",
    "m = 10\n",
    "def division_hash(key, m):\n",
    " \n",
    "  return key % m\n",
    "    \n",
    "for key in keys:\n",
    "  hash_value = division_hash(hash(key), m)  # Using Python's built-in hash function\n",
    "  print(f\"Hash value of {key}: {hash_value}\")"
   ]
  },
  {
   "cell_type": "code",
   "execution_count": null,
   "id": "1bef86c7-bce3-4bff-9baa-b60168df5a2f",
   "metadata": {},
   "outputs": [],
   "source": []
  },
  {
   "cell_type": "code",
   "execution_count": null,
   "id": "c8143b9a-df42-4a90-9bed-d515856e38ed",
   "metadata": {},
   "outputs": [],
   "source": []
  }
 ],
 "metadata": {
  "kernelspec": {
   "display_name": "Python 3 (ipykernel)",
   "language": "python",
   "name": "python3"
  },
  "language_info": {
   "codemirror_mode": {
    "name": "ipython",
    "version": 3
   },
   "file_extension": ".py",
   "mimetype": "text/x-python",
   "name": "python",
   "nbconvert_exporter": "python",
   "pygments_lexer": "ipython3",
   "version": "3.12.5"
  }
 },
 "nbformat": 4,
 "nbformat_minor": 5
}
