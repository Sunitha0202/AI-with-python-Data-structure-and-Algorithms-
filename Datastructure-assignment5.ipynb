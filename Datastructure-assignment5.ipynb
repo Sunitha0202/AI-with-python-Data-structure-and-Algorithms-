{
 "cells": [
  {
   "cell_type": "markdown",
   "id": "5e54b864",
   "metadata": {},
   "source": [
    "## Assignment 4\n",
    "\n",
    "The lecture notes provided a Python implementation for a node and the foundational structure of a stack. Please proceed to implement the push and pop methods for the stack:\n",
    "\n",
    "- The push method should accept a value as parameter and should add a new node at the top of the stack with the given value. The pointers and size should be updated accordingly. This method does not return anything.\n",
    "\n",
    "- The pop method should remove the top node from the stack **and** should return its value. The pointers and size should be updated accordingly. This method does not accept any parameters. If the stack is empty, the method should return `None`.\n",
    "\n",
    "\n",
    "To facilitate an understanding of the contents of the data stack, I have provided the method `__repr__` which in turn invokes the method `__iter__` below. The `__repr__()` method returns (doesn't print) a string like this:\n",
    "\n",
    "<Stack (3 elements): ['C', 'B', 'A']>\n",
    "\n",
    "Notice that it informs of the number of elements and prints a list with the content of the nodes."
   ]
  },
  {
   "cell_type": "code",
   "execution_count": 4,
   "id": "6ef45e41-a680-492b-93e8-1742d504d2f8",
   "metadata": {},
   "outputs": [
    {
     "name": "stdout",
     "output_type": "stream",
     "text": [
      "<Stack (3 elements): ['C', 'B', 'A']>\n",
      "C\n",
      "<Stack (2 elements): ['B', 'A']>\n",
      "B\n",
      "<Stack (1 elements): ['A']>\n",
      "A\n",
      "<Stack (0 elements): []>\n",
      "None\n"
     ]
    }
   ],
   "source": [
    "class Node:\n",
    "    def __init__(self, data, next_node=None):\n",
    "        self.data = data\n",
    "        self.next = next_node\n",
    "\n",
    "class Stack:\n",
    "    def __init__(self):\n",
    "        self._top = None  # Points to the top node of the stack\n",
    "        self._size = 0    # Number of elements in the stack\n",
    "\n",
    "    def push(self, value):\n",
    "        \"\"\"\n",
    "        Adds a new node with the given value to the top of the stack.\n",
    "        \"\"\"\n",
    "        new_node = Node(value, self._top)  # Create a new node pointing to the current top\n",
    "        self._top = new_node              # Update the top pointer to the new node\n",
    "        self._size += 1                   # Increment the size of the stack\n",
    "\n",
    "    def pop(self):\n",
    "        \"\"\"\n",
    "        Removes and returns the value of the top node of the stack.\n",
    "        Returns None if the stack is empty.\n",
    "        \"\"\"\n",
    "        if self._top is None:  # Check if the stack is empty\n",
    "            return None\n",
    "        \n",
    "        popped_value = self._top.data     # Store the value of the top node\n",
    "        self._top = self._top.next        # Update the top pointer to the next node\n",
    "        self._size -= 1                   # Decrement the size of the stack\n",
    "        return popped_value               # Return the popped value\n",
    "\n",
    "    def __iter__(self):\n",
    "        \"\"\"\n",
    "        Allows iteration over the stack's elements from top to bottom.\n",
    "        \"\"\"\n",
    "        current = self._top\n",
    "        while current:\n",
    "            yield current\n",
    "            current = current.next\n",
    "\n",
    "    def __repr__(self):\n",
    "        \"\"\"\n",
    "        Provides a string representation of the stack.\n",
    "        \"\"\"\n",
    "        elements = [node.data for node in self]\n",
    "        return f'<Stack ({self._size} elements): {elements}>'\n",
    "\n",
    "# Example usage:\n",
    "stack = Stack()\n",
    "stack.push('A')\n",
    "stack.push('B')\n",
    "stack.push('C')\n",
    "print(stack)  # Output: <Stack (3 elements): ['C', 'B', 'A']>\n",
    "\n",
    "print(stack.pop())  # Output: 'C'\n",
    "print(stack)        # Output: <Stack (2 elements): ['B', 'A']>\n",
    "\n",
    "print(stack.pop())  # Output: 'B'\n",
    "print(stack)        # Output: <Stack (1 element): ['A']>\n",
    "\n",
    "print(stack.pop())  # Output: 'A'\n",
    "print(stack)        # Output: <Stack (0 elements): []>\n",
    "\n",
    "print(stack.pop())  # Output: None\n"
   ]
  },
  {
   "cell_type": "code",
   "execution_count": null,
   "id": "6dd60993-933e-4f44-88c2-a954be84b7b6",
   "metadata": {},
   "outputs": [],
   "source": []
  }
 ],
 "metadata": {
  "kernelspec": {
   "display_name": "Python 3 (ipykernel)",
   "language": "python",
   "name": "python3"
  },
  "language_info": {
   "codemirror_mode": {
    "name": "ipython",
    "version": 3
   },
   "file_extension": ".py",
   "mimetype": "text/x-python",
   "name": "python",
   "nbconvert_exporter": "python",
   "pygments_lexer": "ipython3",
   "version": "3.12.5"
  }
 },
 "nbformat": 4,
 "nbformat_minor": 5
}
